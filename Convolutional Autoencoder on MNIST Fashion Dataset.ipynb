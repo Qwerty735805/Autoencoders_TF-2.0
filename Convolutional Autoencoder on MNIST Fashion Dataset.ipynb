{
 "cells": [
  {
   "cell_type": "code",
   "execution_count": 1,
   "metadata": {},
   "outputs": [],
   "source": [
    "import os\n",
    "import numpy as np\n",
    "import matplotlib.pyplot as plt\n",
    "import tensorflow as tf\n",
    "from tensorflow.keras.layers import Input, Dense, Conv2D, Activation, MaxPool2D\n",
    "from tensorflow.keras.layers import BatchNormalization, Flatten, Reshape, Conv2DTranspose, LeakyReLU\n",
    "from tensorflow.keras.models import Model\n",
    "from tensorflow.keras.optimizers import Adam, SGD"
   ]
  },
  {
   "cell_type": "code",
   "execution_count": 2,
   "metadata": {},
   "outputs": [
    {
     "name": "stdout",
     "output_type": "stream",
     "text": [
      "Num GPUs Available:  1\n"
     ]
    }
   ],
   "source": [
    "physical_devices = tf.config.experimental.list_physical_devices('GPU')\n",
    "print(\"Num GPUs Available: \", len(physical_devices))\n",
    "tf.config.experimental.set_memory_growth(physical_devices[0], True)"
   ]
  },
  {
   "cell_type": "code",
   "execution_count": 3,
   "metadata": {},
   "outputs": [],
   "source": [
    "np.random.seed(2020)\n",
    "tf.random.set_seed(2020)\n",
    "\n",
    "dataset = tf.keras.datasets.fashion_mnist\n",
    "(x_train, y_train),(x_test, y_test) = dataset.load_data()\n",
    "x_train, x_test = x_train / 255.0, x_test / 255.0"
   ]
  },
  {
   "cell_type": "code",
   "execution_count": 4,
   "metadata": {},
   "outputs": [],
   "source": [
    "## Hyperparameters\n",
    "H = 28\n",
    "W = 28\n",
    "C = 1\n",
    "\n",
    "## Latent space\n",
    "latent_dim = 128"
   ]
  },
  {
   "cell_type": "code",
   "execution_count": 5,
   "metadata": {},
   "outputs": [],
   "source": [
    "inputs = Input(shape=(H, W, C), name=\"inputs\")\n",
    "x = inputs"
   ]
  },
  {
   "cell_type": "markdown",
   "metadata": {},
   "source": [
    "### Encoder"
   ]
  },
  {
   "cell_type": "code",
   "execution_count": 6,
   "metadata": {},
   "outputs": [],
   "source": [
    "x = Conv2D(32, (3, 3), padding=\"same\")(x)\n",
    "x = BatchNormalization()(x)\n",
    "x = LeakyReLU(alpha=0.2)(x)\n",
    "x = MaxPool2D((2, 2))(x)\n",
    "\n",
    "x = Conv2D(64, (3, 3), padding=\"same\")(x)\n",
    "x = BatchNormalization()(x)\n",
    "x = LeakyReLU(alpha=0.2)(x)\n",
    "x = MaxPool2D((2, 2))(x)"
   ]
  },
  {
   "cell_type": "markdown",
   "metadata": {},
   "source": [
    "### Latent space"
   ]
  },
  {
   "cell_type": "code",
   "execution_count": 7,
   "metadata": {},
   "outputs": [],
   "source": [
    "x = Flatten()(x)\n",
    "units = x.shape[1]\n",
    "x = Dense(latent_dim, name=\"latent\")(x)\n",
    "x = Dense(units)(x)\n",
    "x = LeakyReLU(alpha=0.2)(x)"
   ]
  },
  {
   "cell_type": "code",
   "execution_count": 8,
   "metadata": {},
   "outputs": [],
   "source": [
    "x = Reshape((7, 7, 64))(x)\n",
    "x = Conv2DTranspose(64, (3, 3), strides=2, padding=\"same\")(x)\n",
    "x = BatchNormalization()(x)\n",
    "x = LeakyReLU(alpha=0.2)(x)\n",
    "\n",
    "x = Conv2DTranspose(1, (3, 3), strides=2, padding=\"same\")(x)\n",
    "x = BatchNormalization()(x)\n",
    "x = Activation(\"sigmoid\", name=\"outputs\")(x)\n",
    "\n",
    "outputs = x"
   ]
  },
  {
   "cell_type": "markdown",
   "metadata": {},
   "source": [
    "### Decoder"
   ]
  },
  {
   "cell_type": "code",
   "execution_count": 9,
   "metadata": {},
   "outputs": [
    {
     "name": "stdout",
     "output_type": "stream",
     "text": [
      "Model: \"model\"\n",
      "_________________________________________________________________\n",
      "Layer (type)                 Output Shape              Param #   \n",
      "=================================================================\n",
      "inputs (InputLayer)          [(None, 28, 28, 1)]       0         \n",
      "_________________________________________________________________\n",
      "conv2d (Conv2D)              (None, 28, 28, 32)        320       \n",
      "_________________________________________________________________\n",
      "batch_normalization (BatchNo (None, 28, 28, 32)        128       \n",
      "_________________________________________________________________\n",
      "leaky_re_lu (LeakyReLU)      (None, 28, 28, 32)        0         \n",
      "_________________________________________________________________\n",
      "max_pooling2d (MaxPooling2D) (None, 14, 14, 32)        0         \n",
      "_________________________________________________________________\n",
      "conv2d_1 (Conv2D)            (None, 14, 14, 64)        18496     \n",
      "_________________________________________________________________\n",
      "batch_normalization_1 (Batch (None, 14, 14, 64)        256       \n",
      "_________________________________________________________________\n",
      "leaky_re_lu_1 (LeakyReLU)    (None, 14, 14, 64)        0         \n",
      "_________________________________________________________________\n",
      "max_pooling2d_1 (MaxPooling2 (None, 7, 7, 64)          0         \n",
      "_________________________________________________________________\n",
      "flatten (Flatten)            (None, 3136)              0         \n",
      "_________________________________________________________________\n",
      "latent (Dense)               (None, 128)               401536    \n",
      "_________________________________________________________________\n",
      "dense (Dense)                (None, 3136)              404544    \n",
      "_________________________________________________________________\n",
      "leaky_re_lu_2 (LeakyReLU)    (None, 3136)              0         \n",
      "_________________________________________________________________\n",
      "reshape (Reshape)            (None, 7, 7, 64)          0         \n",
      "_________________________________________________________________\n",
      "conv2d_transpose (Conv2DTran (None, 14, 14, 64)        36928     \n",
      "_________________________________________________________________\n",
      "batch_normalization_2 (Batch (None, 14, 14, 64)        256       \n",
      "_________________________________________________________________\n",
      "leaky_re_lu_3 (LeakyReLU)    (None, 14, 14, 64)        0         \n",
      "_________________________________________________________________\n",
      "conv2d_transpose_1 (Conv2DTr (None, 28, 28, 1)         577       \n",
      "_________________________________________________________________\n",
      "batch_normalization_3 (Batch (None, 28, 28, 1)         4         \n",
      "_________________________________________________________________\n",
      "outputs (Activation)         (None, 28, 28, 1)         0         \n",
      "=================================================================\n",
      "Total params: 863,045\n",
      "Trainable params: 862,723\n",
      "Non-trainable params: 322\n",
      "_________________________________________________________________\n"
     ]
    }
   ],
   "source": [
    "autoencoder = Model(inputs, outputs)\n",
    "autoencoder.compile(optimizer=Adam(1e-3), loss=tf.keras.losses.MeanAbsoluteError())\n",
    "autoencoder.summary()"
   ]
  },
  {
   "cell_type": "code",
   "execution_count": 10,
   "metadata": {
    "scrolled": false
   },
   "outputs": [
    {
     "name": "stdout",
     "output_type": "stream",
     "text": [
      "Epoch 1/50\n",
      "235/235 [==============================] - 9s 39ms/step - loss: 0.2123 - val_loss: 0.2736\n",
      "Epoch 2/50\n",
      "235/235 [==============================] - 9s 37ms/step - loss: 0.1548 - val_loss: 0.1469\n",
      "Epoch 3/50\n",
      "235/235 [==============================] - 9s 38ms/step - loss: 0.1208 - val_loss: 0.1065\n",
      "Epoch 4/50\n",
      "235/235 [==============================] - 9s 37ms/step - loss: 0.0979 - val_loss: 0.0883\n",
      "Epoch 5/50\n",
      "235/235 [==============================] - 9s 38ms/step - loss: 0.0822 - val_loss: 0.0768\n",
      "Epoch 6/50\n",
      "235/235 [==============================] - 9s 38ms/step - loss: 0.0710 - val_loss: 0.0661\n",
      "Epoch 7/50\n",
      "235/235 [==============================] - 9s 38ms/step - loss: 0.0627 - val_loss: 0.0587\n",
      "Epoch 8/50\n",
      "235/235 [==============================] - 9s 38ms/step - loss: 0.0564 - val_loss: 0.0532\n",
      "Epoch 9/50\n",
      "235/235 [==============================] - 9s 38ms/step - loss: 0.0515 - val_loss: 0.0495\n",
      "Epoch 10/50\n",
      "235/235 [==============================] - 9s 38ms/step - loss: 0.0478 - val_loss: 0.0465\n",
      "Epoch 11/50\n",
      "235/235 [==============================] - 9s 38ms/step - loss: 0.0448 - val_loss: 0.0438\n",
      "Epoch 12/50\n",
      "235/235 [==============================] - 9s 38ms/step - loss: 0.0424 - val_loss: 0.0417\n",
      "Epoch 13/50\n",
      "235/235 [==============================] - 9s 38ms/step - loss: 0.0405 - val_loss: 0.0398\n",
      "Epoch 14/50\n",
      "235/235 [==============================] - 9s 38ms/step - loss: 0.0389 - val_loss: 0.0383\n",
      "Epoch 15/50\n",
      "235/235 [==============================] - 9s 38ms/step - loss: 0.0374 - val_loss: 0.0372\n",
      "Epoch 16/50\n",
      "235/235 [==============================] - 9s 38ms/step - loss: 0.0362 - val_loss: 0.0360\n",
      "Epoch 17/50\n",
      "235/235 [==============================] - 9s 38ms/step - loss: 0.0352 - val_loss: 0.0352\n",
      "Epoch 18/50\n",
      "235/235 [==============================] - 9s 38ms/step - loss: 0.0344 - val_loss: 0.0350\n",
      "Epoch 19/50\n",
      "235/235 [==============================] - 9s 38ms/step - loss: 0.0338 - val_loss: 0.0340\n",
      "Epoch 20/50\n",
      "235/235 [==============================] - 9s 38ms/step - loss: 0.0332 - val_loss: 0.0333\n",
      "Epoch 21/50\n",
      "235/235 [==============================] - 9s 38ms/step - loss: 0.0326 - val_loss: 0.0329\n",
      "Epoch 22/50\n",
      "235/235 [==============================] - 9s 38ms/step - loss: 0.0321 - val_loss: 0.0328\n",
      "Epoch 23/50\n",
      "235/235 [==============================] - 9s 38ms/step - loss: 0.0317 - val_loss: 0.0323\n",
      "Epoch 24/50\n",
      "235/235 [==============================] - 9s 38ms/step - loss: 0.0314 - val_loss: 0.0322\n",
      "Epoch 25/50\n",
      "235/235 [==============================] - 9s 38ms/step - loss: 0.0311 - val_loss: 0.0318\n",
      "Epoch 26/50\n",
      "235/235 [==============================] - 9s 38ms/step - loss: 0.0307 - val_loss: 0.0315\n",
      "Epoch 27/50\n",
      "235/235 [==============================] - 9s 38ms/step - loss: 0.0304 - val_loss: 0.0313\n",
      "Epoch 28/50\n",
      "235/235 [==============================] - 9s 38ms/step - loss: 0.0302 - val_loss: 0.0310\n",
      "Epoch 29/50\n",
      "235/235 [==============================] - 9s 38ms/step - loss: 0.0300 - val_loss: 0.0306\n",
      "Epoch 30/50\n",
      "235/235 [==============================] - 9s 38ms/step - loss: 0.0298 - val_loss: 0.0304\n",
      "Epoch 31/50\n",
      "235/235 [==============================] - 9s 38ms/step - loss: 0.0296 - val_loss: 0.0302\n",
      "Epoch 32/50\n",
      "235/235 [==============================] - 9s 38ms/step - loss: 0.0294 - val_loss: 0.0301\n",
      "Epoch 33/50\n",
      "235/235 [==============================] - 9s 38ms/step - loss: 0.0292 - val_loss: 0.0301\n",
      "Epoch 34/50\n",
      "235/235 [==============================] - 9s 38ms/step - loss: 0.0291 - val_loss: 0.0302\n",
      "Epoch 35/50\n",
      "235/235 [==============================] - 9s 38ms/step - loss: 0.0290 - val_loss: 0.0297\n",
      "Epoch 36/50\n",
      "235/235 [==============================] - 9s 38ms/step - loss: 0.0289 - val_loss: 0.0297\n",
      "Epoch 37/50\n",
      "235/235 [==============================] - 9s 38ms/step - loss: 0.0288 - val_loss: 0.0296\n",
      "Epoch 38/50\n",
      "235/235 [==============================] - 9s 38ms/step - loss: 0.0286 - val_loss: 0.0294\n",
      "Epoch 39/50\n",
      "235/235 [==============================] - 9s 38ms/step - loss: 0.0283 - val_loss: 0.0292\n",
      "Epoch 40/50\n",
      "235/235 [==============================] - 9s 38ms/step - loss: 0.0281 - val_loss: 0.0291\n",
      "Epoch 41/50\n",
      "235/235 [==============================] - 9s 38ms/step - loss: 0.0280 - val_loss: 0.0290\n",
      "Epoch 42/50\n",
      "235/235 [==============================] - 9s 38ms/step - loss: 0.0279 - val_loss: 0.0290\n",
      "Epoch 43/50\n",
      "235/235 [==============================] - 9s 38ms/step - loss: 0.0279 - val_loss: 0.0289\n",
      "Epoch 44/50\n",
      "235/235 [==============================] - 9s 38ms/step - loss: 0.0278 - val_loss: 0.0289\n",
      "Epoch 45/50\n",
      "235/235 [==============================] - 9s 38ms/step - loss: 0.0278 - val_loss: 0.0289\n",
      "Epoch 46/50\n",
      "235/235 [==============================] - 9s 38ms/step - loss: 0.0278 - val_loss: 0.0288\n",
      "Epoch 47/50\n",
      "235/235 [==============================] - 9s 38ms/step - loss: 0.0277 - val_loss: 0.0288\n",
      "Epoch 48/50\n",
      "235/235 [==============================] - 9s 38ms/step - loss: 0.0277 - val_loss: 0.0287\n",
      "Epoch 49/50\n",
      "235/235 [==============================] - 9s 38ms/step - loss: 0.0277 - val_loss: 0.0286\n",
      "Epoch 50/50\n",
      "235/235 [==============================] - 9s 38ms/step - loss: 0.0276 - val_loss: 0.0288\n"
     ]
    },
    {
     "data": {
      "text/plain": [
       "<tensorflow.python.keras.callbacks.History at 0x267a09065f8>"
      ]
     },
     "execution_count": 10,
     "metadata": {},
     "output_type": "execute_result"
    }
   ],
   "source": [
    "autoencoder.fit(\n",
    "    x_train,\n",
    "    x_train,\n",
    "    epochs=50,\n",
    "    batch_size=256,\n",
    "    shuffle=False,\n",
    "    validation_data=(x_test, x_test)\n",
    ")"
   ]
  },
  {
   "cell_type": "code",
   "execution_count": 13,
   "metadata": {},
   "outputs": [],
   "source": [
    "test_pred_y = autoencoder.predict(x_test)"
   ]
  },
  {
   "cell_type": "code",
   "execution_count": 12,
   "metadata": {},
   "outputs": [
    {
     "data": {
      "image/png": "[encoded data removed]",
      "text/plain": [
       "<Figure size 1440x288 with 20 Axes>"
      ]
     },
     "metadata": {
      "needs_background": "light"
     },
     "output_type": "display_data"
    }
   ],
   "source": [
    "n = 10  ## how many digits we will display\n",
    "plt.figure(figsize=(20, 4))\n",
    "for i in range(n):\n",
    "    ## display original\n",
    "    ax = plt.subplot(2, n, i + 1)\n",
    "    ax.set_title(\"Original Image\")\n",
    "    plt.imshow(x_test[i].reshape(H, W))\n",
    "    plt.gray()\n",
    "    ax.get_xaxis().set_visible(False)\n",
    "    ax.get_yaxis().set_visible(False)\n",
    "\n",
    "    ## display reconstruction\n",
    "    ax = plt.subplot(2, n, i + 1 + n)\n",
    "    ax.set_title(\"Predicted Image\")\n",
    "    plt.imshow(test_pred_y[i].reshape(H, W))\n",
    "    plt.gray()\n",
    "    ax.get_xaxis().set_visible(False)\n",
    "    ax.get_yaxis().set_visible(False)\n",
    "plt.savefig(\"result_CAE.png\")"
   ]
  },
  {
   "cell_type": "code",
   "execution_count": null,
   "metadata": {},
   "outputs": [],
   "source": []
  }
 ],
 "metadata": {
  "kernelspec": {
   "display_name": "Python 3",
   "language": "python",
   "name": "python3"
  },
  "language_info": {
   "codemirror_mode": {
    "name": "ipython",
    "version": 3
   },
   "file_extension": ".py",
   "mimetype": "text/x-python",
   "name": "python",
   "nbconvert_exporter": "python",
   "pygments_lexer": "ipython3",
   "version": "3.7.3"
  }
 },
 "nbformat": 4,
 "nbformat_minor": 2
}
